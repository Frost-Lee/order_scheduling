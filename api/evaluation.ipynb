{
 "metadata": {
  "language_info": {
   "codemirror_mode": {
    "name": "ipython",
    "version": 3
   },
   "file_extension": ".py",
   "mimetype": "text/x-python",
   "name": "python",
   "nbconvert_exporter": "python",
   "pygments_lexer": "ipython3",
   "version": "3.7.9-final"
  },
  "orig_nbformat": 2,
  "kernelspec": {
   "name": "python3",
   "display_name": "Python 3.7.9 64-bit",
   "metadata": {
    "interpreter": {
     "hash": "aee8b7b246df8f9039afb4144a1f6fd8d2ca17a180786b69acc140d282b71a49"
    }
   }
  }
 },
 "nbformat": 4,
 "nbformat_minor": 2,
 "cells": [
  {
   "cell_type": "code",
   "execution_count": null,
   "metadata": {},
   "outputs": [],
   "source": [
    "import datetime\n",
    "import numpy as np\n",
    "import os\n",
    "import pandas as pd\n",
    "import random\n",
    "import shortuuid\n",
    "\n",
    "from scheduler.order_scheduler import OrderScheduler"
   ]
  },
  {
   "cell_type": "code",
   "execution_count": null,
   "metadata": {},
   "outputs": [],
   "source": [
    "ROOT_DIR = '/Users/frost/Desktop/scheduling_input/stress'\n",
    "\n",
    "ORDER_FILE_NAME = 'demand_order.csv'\n",
    "SOURCING_RULE_FILE_NAME = 'sourcing_rule.csv'\n",
    "SUPPLY_PLAN_FILE_NAME = 'supply.csv'"
   ]
  },
  {
   "cell_type": "code",
   "execution_count": null,
   "metadata": {},
   "outputs": [],
   "source": [
    "order_df = pd.read_csv(os.path.join(ROOT_DIR, ORDER_FILE_NAME))\n",
    "sourcing_rule_df = pd.read_csv(os.path.join(ROOT_DIR, SOURCING_RULE_FILE_NAME))\n",
    "supply_plan_df = pd.read_csv(os.path.join(ROOT_DIR, SUPPLY_PLAN_FILE_NAME))"
   ]
  },
  {
   "cell_type": "code",
   "execution_count": null,
   "metadata": {},
   "outputs": [],
   "source": [
    "def fulfillment_plan(order_df, sourcing_rule_df, supply_plan_df):\n",
    "    df_legal = lambda df, titles: set([*df.columns]) == set(titles)  and len(np.where(pd.isnull(df))[0]) == 0\n",
    "    assert df_legal(order_df, ['customer', 'product', 'date', 'quantity']) and df_legal(sourcing_rule_df, ['site', 'product', 'customer']) and df_legal(supply_plan_df, ['site', 'product', 'date', 'quantity'])\n",
    "    order_df['date'], supply_plan_df['date'] = pd.to_datetime(order_df['date']), pd.to_datetime(supply_plan_df['date'])\n",
    "    order_df, supply_plan_df = order_df.sort_values(by=['date']), supply_plan_df.sort_values(by=['date'])\n",
    "    order_scheduler = OrderScheduler()\n",
    "    for _, row in sourcing_rule_df.iterrows():\n",
    "        order_scheduler.add_sourcing_rule(row['customer'], row['site'], row['product'])\n",
    "    fulfillment_plans = []\n",
    "    for date in sorted(set(order_df['date']).union(set(supply_plan_df['date']))):\n",
    "        order_daily_df, supply_daily_df = order_df[order_df['date'] == date] , supply_plan_df[supply_plan_df['date'] == date]\n",
    "        for _, row in order_daily_df.iterrows():\n",
    "            order_scheduler.claim_order(row['customer'], row['product'], row['quantity'], row['date'])\n",
    "        for _, row in supply_daily_df.iterrows():\n",
    "            order_scheduler.claim_supply_plan(row['site'], row['product'], row['quantity'], row['date'])\n",
    "        fulfillment_plans += order_scheduler.plan_fulfillment(date)\n",
    "    return fulfillment_plans, order_scheduler.order_queue_manager.queued_orders"
   ]
  },
  {
   "cell_type": "code",
   "execution_count": null,
   "metadata": {},
   "outputs": [],
   "source": [
    "plans, _ = fulfillment_plan(order_df, sourcing_rule_df, supply_plan_df)"
   ]
  },
  {
   "cell_type": "code",
   "execution_count": null,
   "metadata": {},
   "outputs": [],
   "source": [
    "order_fulfill_lookup = {}\n",
    "for plan in plans:\n",
    "    order_key = (plan[0], plan[1], plan[2])\n",
    "    if order_key not in order_fulfill_lookup:\n",
    "        order_fulfill_lookup[order_key] = []\n",
    "    order_fulfill_lookup[order_key].append(plan)"
   ]
  },
  {
   "cell_type": "code",
   "execution_count": null,
   "metadata": {},
   "outputs": [],
   "source": [
    "order_wait_times = [(max([*map(lambda x: x[4], plans)]) - key[2]).days for key, plans in order_fulfill_lookup.items()]\n",
    "sum(order_wait_times) / len(order_wait_times)"
   ]
  },
  {
   "source": [
    "### same day orders test case generation\n",
    "\n",
    "##### average wait time metrics\n",
    "- our algorithm: 191.28\n",
    "- algorithm without SJF strategy: 274.16"
   ],
   "cell_type": "markdown",
   "metadata": {}
  },
  {
   "cell_type": "code",
   "execution_count": null,
   "metadata": {},
   "outputs": [],
   "source": [
    "test_input_root = '/Users/frost/Desktop'\n",
    "\n",
    "order_quantities = [np.random.randint(0, 10000) for _ in range(100)]\n",
    "base_date = datetime.datetime(2020, 1, 1)\n",
    "\n",
    "with open(os.path.join(test_input_root, 'order.txt'), 'w') as order_out_file:\n",
    "    order_out_file.write('customer,product,date,quantity\\n')\n",
    "    for index, quantity in enumerate(order_quantities):\n",
    "        order_out_file.write('C' + str(index) + ',P001,' + base_date.strftime('%d-%b-%Y') + ',' + str(quantity) + '\\n')\n",
    "with open(os.path.join(test_input_root, 'supply.txt'), 'w') as supply_out_file:\n",
    "    supply_out_file.write('site,product,date,quantity\\n')\n",
    "    for index in range(sum(order_quantities) // 1000 + 1):\n",
    "        supply_out_file.write('1206,P001,' + (base_date + datetime.timedelta(days=index)).strftime('%d-%b-%Y') + ',1000\\n')\n",
    "with open(os.path.join(test_input_root, 'rule.txt'), 'w') as rule_out_file:\n",
    "    rule_out_file.write('site,customer,product\\n')\n",
    "    for index in range(len(order_quantities)):\n",
    "        rule_out_file.write('1206,C' + str(index) + ',P001\\n')"
   ]
  },
  {
   "source": [
    "### blocking order test case generation\n",
    "\n",
    "##### average wait time metrics\n",
    "- our algorithm: 60.47\n",
    "- algorithm without supply leak: 75.76"
   ],
   "cell_type": "markdown",
   "metadata": {}
  },
  {
   "cell_type": "code",
   "execution_count": null,
   "metadata": {},
   "outputs": [],
   "source": [
    "test_input_root = '/Users/frost/Desktop'\n",
    "\n",
    "order_quantities = [5000 if np.random.randint(50) == 0 else 100 for _ in range(100)]\n",
    "base_date = datetime.datetime(2020, 1, 1)\n",
    "\n",
    "with open(os.path.join(test_input_root, 'order.txt'), 'w') as order_out_file:\n",
    "    order_out_file.write('customer,product,date,quantity\\n')\n",
    "    for index, quantity in enumerate(order_quantities):\n",
    "        order_out_file.write('C' + str(index) + ',P001,' + (base_date + datetime.timedelta(days=index)).strftime('%d-%b-%Y') + ',' + str(quantity) + '\\n')\n",
    "with open(os.path.join(test_input_root, 'supply.txt'), 'w') as supply_out_file:\n",
    "    supply_out_file.write('site,product,date,quantity\\n')\n",
    "    for index in range(sum(order_quantities) // 100 + 1):\n",
    "        supply_out_file.write('1206,P001,' + (base_date + datetime.timedelta(days=index)).strftime('%d-%b-%Y') + ',100\\n')\n",
    "with open(os.path.join(test_input_root, 'rule.txt'), 'w') as rule_out_file:\n",
    "    rule_out_file.write('site,customer,product\\n')\n",
    "    for index in range(len(order_quantities)):\n",
    "        rule_out_file.write('1206,C' + str(index) + ',P001\\n')"
   ]
  },
  {
   "source": [
    "### weak origin test case generation\n",
    "\n",
    "##### average wait time metrics\n",
    "- our algorithm: 10.195\n",
    "- algorithm without origin order: 10.34"
   ],
   "cell_type": "markdown",
   "metadata": {}
  },
  {
   "cell_type": "code",
   "execution_count": null,
   "metadata": {},
   "outputs": [],
   "source": [
    "test_input_root = '/Users/frost/Desktop'\n",
    "\n",
    "base_date = datetime.datetime(2020, 1, 1)\n",
    "\n",
    "with open(os.path.join(test_input_root, 'order.txt'), 'w') as order_out_file:\n",
    "    order_out_file.write('customer,product,date,quantity\\n')\n",
    "    for index, quantity in enumerate(range(100)):\n",
    "        order_out_file.write('C1,P001,' + (base_date + datetime.timedelta(days=index)).strftime('%d-%b-%Y') + ',100\\n')\n",
    "        order_out_file.write('C2,P001,' + (base_date + datetime.timedelta(days=index)).strftime('%d-%b-%Y') + ',50\\n')\n",
    "with open(os.path.join(test_input_root, 'supply.txt'), 'w') as supply_out_file:\n",
    "    supply_out_file.write('site,product,date,quantity\\n')\n",
    "    for index in range(150 * 100 // 100 + 1):\n",
    "        supply_out_file.write('1206,P001,' + (base_date + datetime.timedelta(days=index)).strftime('%d-%b-%Y') + ',75\\n')\n",
    "    for index in range(150 * 100 // 50 + 1):\n",
    "        supply_out_file.write('1205,P001,' + (base_date + datetime.timedelta(days=index)).strftime('%d-%b-%Y') + ',50\\n')\n",
    "with open(os.path.join(test_input_root, 'rule.txt'), 'w') as rule_out_file:\n",
    "    rule_out_file.write('site,customer,product\\n')\n",
    "    rule_out_file.write('1206,C1,P001\\n')\n",
    "    rule_out_file.write('1205,C1,P001\\n')\n",
    "    rule_out_file.write('1205,C2,P001\\n')"
   ]
  },
  {
   "source": [
    "### stress test case generation\n",
    "\n",
    "##### average wait time metrics\n",
    "- our algorithm: 128.0156286813791\n",
    "- pure FCFS algorithm: 128.0156286813791"
   ],
   "cell_type": "markdown",
   "metadata": {}
  },
  {
   "cell_type": "code",
   "execution_count": null,
   "metadata": {},
   "outputs": [],
   "source": [
    "test_input_root = '/Users/frost/Desktop'\n",
    "\n",
    "base_date = datetime.datetime(2020, 1, 1)\n",
    "site_names = [shortuuid.uuid() for _ in range(100)]\n",
    "customer_names = [shortuuid.uuid() for _ in range(100)]\n",
    "\n",
    "total_quantity = 0\n",
    "\n",
    "with open(os.path.join(test_input_root, 'order.txt'), 'w') as order_out_file:\n",
    "    order_out_file.write('customer,product,date,quantity\\n')\n",
    "    for index, quantity in enumerate(range(256)):\n",
    "        date_string = (base_date + datetime.timedelta(days=index)).strftime('%d-%b-%Y')\n",
    "        for customer_name in customer_names:\n",
    "            if np.random.randint(2) > 0:\n",
    "                quantity = np.random.randint(50, 1000)\n",
    "                order_out_file.write(customer_name + ',P1,' + date_string + ',' + str(quantity) + '\\n')\n",
    "                total_quantity += quantity\n",
    "with open(os.path.join(test_input_root, 'supply.txt'), 'w') as supply_out_file:\n",
    "    supply_out_file.write('site,product,date,quantity\\n')\n",
    "    for site_name in site_names:\n",
    "        supply_quantity, date_index = 0, 0\n",
    "        while supply_quantity < total_quantity:\n",
    "            date_string = (base_date + datetime.timedelta(days=index)).strftime('%d-%b-%Y')\n",
    "            if np.random.randint(4) > 0:\n",
    "                quantity = np.random.randint(500, 5000)\n",
    "                supply_out_file.write(site_name + ',P1,' + date_string + ',' + str(quantity) + '\\n')\n",
    "                supply_quantity += quantity\n",
    "            date_index += 1\n",
    "with open(os.path.join(test_input_root, 'rule.txt'), 'w') as rule_out_file:\n",
    "    rule_out_file.write('site,customer,product\\n')\n",
    "    for site_name in site_names:\n",
    "        rule_out_file.write(site_name + ',default_customer,P1\\n')\n",
    "    for customer_name in customer_names:\n",
    "        sites = random.choices(site_names, k=np.random.randint(2, 5))\n",
    "        for site in sites:\n",
    "            rule_out_file.write(site + ',' + customer_name + ',P1\\n')"
   ]
  },
  {
   "cell_type": "code",
   "execution_count": null,
   "metadata": {},
   "outputs": [],
   "source": []
  }
 ]
}